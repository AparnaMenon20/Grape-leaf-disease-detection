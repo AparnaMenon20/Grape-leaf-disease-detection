{
 "cells": [
  {
   "cell_type": "markdown",
   "metadata": {
    "colab_type": "text",
    "id": "spCEG7AQzM3B"
   },
   "source": [
    "### Plant disease classification using Convolution Neural Network Model¶\n",
    "Diseased and healthy grape leaf images were used to train a deep learning architecture known as AlexNet. The model classifies the test images with 97% accuracy."
   ]
  },
  {
   "cell_type": "code",
   "execution_count": 0,
   "metadata": {
    "colab": {
     "base_uri": "https://localhost:8080/",
     "height": 34
    },
    "colab_type": "code",
    "id": "U0WH5Snw_Loi",
    "outputId": "36bad339-71e8-447f-d11d-50f0d9a48b5a"
   },
   "outputs": [
    {
     "name": "stderr",
     "output_type": "stream",
     "text": [
      "Using TensorFlow backend.\n"
     ]
    }
   ],
   "source": [
    "from keras import Sequential\n",
    "from keras.layers import Dense, Flatten, GlobalAveragePooling2D, Dropout\n",
    "from keras.applications import vgg16\n",
    "from keras.applications.resnet50 import ResNet50\n",
    "from keras.applications.vgg16 import preprocess_input as vgg_pi\n",
    "from keras.applications.resnet50 import preprocess_input as resnet_pi\n",
    "from keras.preprocessing.image import ImageDataGenerator\n",
    "from keras.models import Model\n",
    "import keras\n",
    "from keras.callbacks import CSVLogger, ReduceLROnPlateau, EarlyStopping\n",
    "from keras.layers.core import Dense, Dropout, Activation, Flatten\n",
    "from keras.layers.convolutional import Convolution2D, MaxPooling2D, Conv2D\n",
    "from keras.layers.normalization import BatchNormalization\n",
    "import numpy as np\n"
   ]
  },
  {
   "cell_type": "markdown",
   "metadata": {
    "colab_type": "text",
    "id": "P1iA24fc1bYq"
   },
   "source": [
    "### Helper functions"
   ]
  },
  {
   "cell_type": "code",
   "execution_count": 0,
   "metadata": {
    "colab": {},
    "colab_type": "code",
    "id": "1Bae0G4fwaZ1"
   },
   "outputs": [],
   "source": [
    "def smooth_curve(points, factor=0.8):\n",
    "  \"\"\"\n",
    "  Helper function to help smooth accuracy/loss plots using an exponential\n",
    "  moving average of the loss and accuracy values. \n",
    "  \"\"\"\n",
    "  smoothed_points = []\n",
    "  for point in points:\n",
    "    if smoothed_points:\n",
    "      previous = smoothed_points[-1]\n",
    "      smoothed_points.append(previous * factor + point * (1 - factor))\n",
    "    else:\n",
    "      smoothed_points.append(point)\n",
    "  return smoothed_points\n",
    "\n",
    "def get_plots(history, smooth=False):\n",
    "  \"\"\"\n",
    "  Helper function to plot training/validation accuracy/loss.\n",
    "  @param history - Keras model history \n",
    "  @param smooth - Boolean for whether to smooth plots or not\n",
    "  \"\"\"\n",
    "  acc = history.history['acc']\n",
    "  val_acc = history.history['val_acc']\n",
    "  loss = history.history['loss']\n",
    "  val_loss = history.history['val_loss']\n",
    "\n",
    "  epochs = range(1, len(acc)+1)\n",
    "  \n",
    "  if smooth == True:\n",
    "    acc = smooth_curve(acc)\n",
    "    val_acc = smooth_curve(val_acc)\n",
    "    loss = smooth_curve(loss)\n",
    "    val_loss = smooth_curve(val_loss)\n",
    "\n",
    "  plt.plot(epochs, acc, 'bo', label='Training acc')\n",
    "  plt.plot(epochs, val_acc,'b', label='Validation acc')\n",
    "  plt.title('Training and validation accuracy')\n",
    "  plt.legend()\n",
    "\n",
    "  plt.figure()\n",
    "\n",
    "  plt.plot(epochs, loss, 'bo', label='Training loss')\n",
    "  plt.plot(epochs, val_loss, 'b', label='Validation loss')\n",
    "  plt.title('Training and validation loss')\n",
    "  plt.legend()\n",
    "\n",
    "  plt.show()\n",
    "  \n",
    "def get_metrics(model, generator, steps, target_names=[]):\n",
    "  \"\"\"\n",
    "  Function to print out confusion matrix and classification report.\n",
    "  \"\"\"\n",
    "  target_names = ['black_measles', 'black_rot', 'leaf_blight', 'phylloxera', 'healthy']\n",
    "  abbreviations = ['BM', 'BR', 'LB', 'PH', 'H']\n",
    "  \n",
    "  # Get predictions for data\n",
    "  y_pred = model.predict_generator(generator=generator, steps=steps)\n",
    "  y_pred = np.argmax(a=y_pred, axis=1)\n",
    "  \n",
    "  # Get confusion matix\n",
    "  cnf_mat = confusion_matrix(y_true=generator.classes, y_pred=y_pred)\n",
    "  fig, ax = plt.subplots(1)\n",
    "  ax = sns.heatmap(cnf_mat, ax=ax, cmap=plt.cm.Blues, annot=True, fmt='g')\n",
    "  ax.set_xticklabels(abbreviations)\n",
    "  ax.set_yticklabels(abbreviations)\n",
    "  plt.title('Confusion Matrix')\n",
    "  plt.xlabel('Predicted Class')\n",
    "  plt.ylabel('True Class')\n",
    "  plt.show()\n",
    "  \n",
    "  # Get classification report\n",
    "  print('Classification Report')\n",
    "  print(classification_report(y_true=generator.classes, y_pred=y_pred, \n",
    "                              target_names=target_names))"
   ]
  },
  {
   "cell_type": "markdown",
   "metadata": {},
   "source": [
    "### Training data geneation"
   ]
  },
  {
   "cell_type": "code",
   "execution_count": 0,
   "metadata": {
    "colab": {
     "base_uri": "https://localhost:8080/",
     "height": 50
    },
    "colab_type": "code",
    "id": "6_RqN9s4TxQm",
    "outputId": "6a875a5d-f03a-420e-dab7-7524cb7c00e5"
   },
   "outputs": [
    {
     "name": "stdout",
     "output_type": "stream",
     "text": [
      "Found 3799 images belonging to 5 classes.\n",
      "Found 949 images belonging to 5 classes.\n"
     ]
    }
   ],
   "source": [
    "# Training data generator with data augmentation\n",
    "train_datagen = ImageDataGenerator(\n",
    "                  rescale=1./100,\n",
    "                  rotation_range=40,\n",
    "                  width_shift_range=0.1,\n",
    "                  height_shift_range=0.1,\n",
    "                  shear_range=0.1,\n",
    "                  zoom_range=0.1,\n",
    "                  horizontal_flip=True,\n",
    "                  vertical_flip=True)\n",
    "\n",
    "# No data augmentation for validation data\n",
    "test_datagen = ImageDataGenerator(rescale=1./100)\n",
    "\n",
    "train_generator = train_datagen.flow_from_directory(\n",
    "                    train_dir,\n",
    "                    target_size=(img_height, img_width),\n",
    "                    color_mode='rgb',\n",
    "                    batch_size=batch_size,\n",
    "                    class_mode='categorical',\n",
    "                    shuffle=True, \n",
    "                    seed=42)\n",
    "\n",
    "validation_generator = test_datagen.flow_from_directory(\n",
    "                          validation_dir,\n",
    "                          target_size=(img_height, img_width),\n",
    "                          color_mode='rgb',\n",
    "                          batch_size=batch_size,\n",
    "                          class_mode='categorical')\n",
    "\n"
   ]
  },
  {
   "cell_type": "markdown",
   "metadata": {},
   "source": [
    "### Constructing the model from scratch"
   ]
  },
  {
   "cell_type": "code",
   "execution_count": 0,
   "metadata": {
    "colab": {
     "base_uri": "https://localhost:8080/",
     "height": 890
    },
    "colab_type": "code",
    "id": "7JIKipefleBP",
    "outputId": "02ad8810-f2de-4511-c246-b23cce63448f"
   },
   "outputs": [
    {
     "name": "stdout",
     "output_type": "stream",
     "text": [
      "Model: \"sequential_3\"\n",
      "_________________________________________________________________\n",
      "Layer (type)                 Output Shape              Param #   \n",
      "=================================================================\n",
      "conv2d_6 (Conv2D)            (None, 100, 100, 64)      23296     \n",
      "_________________________________________________________________\n",
      "batch_normalization_5 (Batch (None, 100, 100, 64)      256       \n",
      "_________________________________________________________________\n",
      "activation_4 (Activation)    (None, 100, 100, 64)      0         \n",
      "_________________________________________________________________\n",
      "max_pooling2d_5 (MaxPooling2 (None, 33, 33, 64)        0         \n",
      "_________________________________________________________________\n",
      "conv2d_7 (Conv2D)            (None, 33, 33, 128)       401536    \n",
      "_________________________________________________________________\n",
      "batch_normalization_6 (Batch (None, 33, 33, 128)       512       \n",
      "_________________________________________________________________\n",
      "activation_5 (Activation)    (None, 33, 33, 128)       0         \n",
      "_________________________________________________________________\n",
      "max_pooling2d_6 (MaxPooling2 (None, 11, 11, 128)       0         \n",
      "_________________________________________________________________\n",
      "conv2d_8 (Conv2D)            (None, 11, 11, 192)       221376    \n",
      "_________________________________________________________________\n",
      "batch_normalization_7 (Batch (None, 11, 11, 192)       768       \n",
      "_________________________________________________________________\n",
      "activation_6 (Activation)    (None, 11, 11, 192)       0         \n",
      "_________________________________________________________________\n",
      "max_pooling2d_7 (MaxPooling2 (None, 3, 3, 192)         0         \n",
      "_________________________________________________________________\n",
      "conv2d_9 (Conv2D)            (None, 3, 3, 256)         442624    \n",
      "_________________________________________________________________\n",
      "batch_normalization_8 (Batch (None, 3, 3, 256)         1024      \n",
      "_________________________________________________________________\n",
      "max_pooling2d_8 (MaxPooling2 (None, 1, 1, 256)         0         \n",
      "_________________________________________________________________\n",
      "flatten_1 (Flatten)          (None, 256)               0         \n",
      "_________________________________________________________________\n",
      "dense_1 (Dense)              (None, 36864)             9474048   \n",
      "_________________________________________________________________\n",
      "batch_normalization_9 (Batch (None, 36864)             147456    \n",
      "_________________________________________________________________\n",
      "activation_7 (Activation)    (None, 36864)             0         \n",
      "_________________________________________________________________\n",
      "dense_2 (Dense)              (None, 4096)              150999040 \n",
      "_________________________________________________________________\n",
      "batch_normalization_10 (Batc (None, 4096)              16384     \n",
      "_________________________________________________________________\n",
      "dense_3 (Dense)              (None, 5)                 20485     \n",
      "=================================================================\n",
      "Total params: 161,748,805\n",
      "Trainable params: 161,665,605\n",
      "Non-trainable params: 83,200\n",
      "_________________________________________________________________\n"
     ]
    }
   ],
   "source": [
    "model = Sequential()\n",
    "model.add(Conv2D(64, (11, 11), input_shape=input_shape, padding='same',activation='relu'))\n",
    "model.add(BatchNormalization())\n",
    "model.add(Activation('relu'))\n",
    "model.add(MaxPooling2D(pool_size= (3, 3)))\n",
    "\n",
    "model.add(Conv2D(128, (7, 7), padding='same',activation='relu'))\n",
    "model.add(BatchNormalization())\n",
    "model.add(Activation('relu'))\n",
    "model.add(MaxPooling2D(pool_size=(3, 3)))\n",
    "\n",
    "model.add(Convolution2D(192, (3, 3), padding='same', activation='relu'))\n",
    "model.add(BatchNormalization())\n",
    "model.add(Activation('relu'))\n",
    "model.add(MaxPooling2D(pool_size=(3, 3)))\n",
    "\n",
    "model.add(Convolution2D(256, (3, 3), padding='same', activation='relu'))\n",
    "model.add(BatchNormalization())\n",
    "model.add(MaxPooling2D(pool_size=(3, 3)))\n",
    "\n",
    "model.add(Flatten())\n",
    "model.add(Dense(12 * 12 * 256, activation='relu'))\n",
    "model.add(BatchNormalization())\n",
    "model.add(Activation('relu'))\n",
    "model.add(Dense(4096, activation='relu'))\n",
    "model.add(BatchNormalization())\n",
    "model.add(Dense(5 , activation='softmax'))\n",
    "model.summary()\n"
   ]
  },
  {
   "cell_type": "code",
   "execution_count": 0,
   "metadata": {
    "colab": {},
    "colab_type": "code",
    "id": "0CL7WMUas1xr"
   },
   "outputs": [],
   "source": [
    "##set hyperparameters to reduce overfitting\n",
    "lr_reducer = ReduceLROnPlateau(factor=np.sqrt(0.1), cooldown=0, patience=5, min_lr=0.5e-6)\n",
    "early_stopper = EarlyStopping(min_delta=0.001, patience=10)\n",
    "csv_logger = CSVLogger('alexnet_scratch_log.csv')"
   ]
  },
  {
   "cell_type": "code",
   "execution_count": 0,
   "metadata": {
    "colab": {},
    "colab_type": "code",
    "id": "aLXSJ3o4tvmG"
   },
   "outputs": [],
   "source": [
    "#compile the model\n",
    "model.compile(optimizer='Adadelta', loss='categorical_crossentropy', metrics=['accuracy'])"
   ]
  },
  {
   "cell_type": "markdown",
   "metadata": {},
   "source": [
    "### Run the model"
   ]
  },
  {
   "cell_type": "code",
   "execution_count": 0,
   "metadata": {
    "colab": {
     "base_uri": "https://localhost:8080/",
     "height": 608
    },
    "colab_type": "code",
    "id": "kop0WAwnspAh",
    "outputId": "0ffd6203-0ff9-4742-b608-11bcfa60f84a"
   },
   "outputs": [
    {
     "name": "stderr",
     "output_type": "stream",
     "text": [
      "/usr/local/lib/python3.6/dist-packages/ipykernel_launcher.py:3: UserWarning: The semantics of the Keras 2 argument `steps_per_epoch` is not the same as the Keras 1 argument `samples_per_epoch`. `steps_per_epoch` is the number of batches to draw from the generator at each epoch. Basically steps_per_epoch = samples_per_epoch/batch_size. Similarly `nb_val_samples`->`validation_steps` and `val_samples`->`steps` arguments have changed. Update your method calls accordingly.\n",
      "  This is separate from the ipykernel package so we can avoid doing imports until\n",
      "/usr/local/lib/python3.6/dist-packages/ipykernel_launcher.py:3: UserWarning: Update your `fit_generator` call to the Keras 2 API: `fit_generator(<keras.pre..., steps_per_epoch=189, validation_data=<keras.pre..., class_weight=\"auto\", callbacks=[<keras.ca..., epochs=15, validation_steps=47)`\n",
      "  This is separate from the ipykernel package so we can avoid doing imports until\n"
     ]
    },
    {
     "name": "stdout",
     "output_type": "stream",
     "text": [
      "Epoch 1/15\n",
      "189/189 [==============================] - 28s 146ms/step - loss: 0.1982 - accuracy: 0.9373 - val_loss: 0.6540 - val_accuracy: 0.8181\n",
      "Epoch 2/15\n",
      "189/189 [==============================] - 27s 142ms/step - loss: 0.1301 - accuracy: 0.9587 - val_loss: 3.1345 - val_accuracy: 0.7793\n",
      "Epoch 3/15\n",
      "189/189 [==============================] - 27s 141ms/step - loss: 0.1343 - accuracy: 0.9537 - val_loss: 10.4036 - val_accuracy: 0.6125\n",
      "Epoch 4/15\n",
      "189/189 [==============================] - 26s 140ms/step - loss: 0.1113 - accuracy: 0.9603 - val_loss: 0.7895 - val_accuracy: 0.6835\n",
      "Epoch 5/15\n",
      "189/189 [==============================] - 27s 140ms/step - loss: 0.1161 - accuracy: 0.9616 - val_loss: 3.2302 - val_accuracy: 0.4672\n",
      "Epoch 6/15\n",
      "189/189 [==============================] - 26s 140ms/step - loss: 0.1225 - accuracy: 0.9656 - val_loss: 2.1753 - val_accuracy: 0.7772\n",
      "Epoch 7/15\n",
      "189/189 [==============================] - 26s 140ms/step - loss: 0.0670 - accuracy: 0.9786 - val_loss: 0.0293 - val_accuracy: 0.9720\n",
      "Epoch 8/15\n",
      "189/189 [==============================] - 27s 142ms/step - loss: 0.0501 - accuracy: 0.9825 - val_loss: 0.0604 - val_accuracy: 0.9516\n",
      "Epoch 9/15\n",
      "189/189 [==============================] - 27s 141ms/step - loss: 0.0392 - accuracy: 0.9876 - val_loss: 0.0137 - val_accuracy: 0.9860\n",
      "Epoch 10/15\n",
      "189/189 [==============================] - 26s 140ms/step - loss: 0.0494 - accuracy: 0.9828 - val_loss: 0.4478 - val_accuracy: 0.9462\n",
      "Epoch 11/15\n",
      "189/189 [==============================] - 26s 140ms/step - loss: 0.0367 - accuracy: 0.9870 - val_loss: 0.1128 - val_accuracy: 0.9623\n",
      "Epoch 12/15\n",
      "189/189 [==============================] - 26s 140ms/step - loss: 0.0461 - accuracy: 0.9817 - val_loss: 0.0043 - val_accuracy: 0.9763\n",
      "Epoch 13/15\n",
      "189/189 [==============================] - 27s 141ms/step - loss: 0.0451 - accuracy: 0.9823 - val_loss: 0.1341 - val_accuracy: 0.8708\n",
      "Epoch 14/15\n",
      "189/189 [==============================] - 26s 139ms/step - loss: 0.0368 - accuracy: 0.9884 - val_loss: 0.0124 - val_accuracy: 0.9483\n",
      "Epoch 15/15\n",
      "189/189 [==============================] - 26s 138ms/step - loss: 0.0398 - accuracy: 0.9857 - val_loss: 0.0142 - val_accuracy: 0.9699\n"
     ]
    }
   ],
   "source": [
    "history = model.fit_generator(train_generator, nb_epoch=epochs, steps_per_epoch=3799 // batch_size,\n",
    "                                    validation_data=validation_generator, nb_val_samples=949 // batch_size,\n",
    "                                    class_weight='auto', callbacks=[lr_reducer, early_stopper, csv_logger])"
   ]
  },
  {
   "cell_type": "markdown",
   "metadata": {},
   "source": [
    "### Test data generator"
   ]
  },
  {
   "cell_type": "code",
   "execution_count": 0,
   "metadata": {
    "colab": {
     "base_uri": "https://localhost:8080/",
     "height": 34
    },
    "colab_type": "code",
    "id": "wbQ_6fB6wUmi",
    "outputId": "594c09ed-9a59-4988-9b3d-18d81fad9721"
   },
   "outputs": [
    {
     "name": "stdout",
     "output_type": "stream",
     "text": [
      "Found 1187 images belonging to 5 classes.\n"
     ]
    }
   ],
   "source": [
    "#test data generator\n",
    "test_gen = test_datagen.flow_from_directory(\n",
    "                test_dir,\n",
    "                target_size=(img_height, img_width),\n",
    "                color_mode='rgb',\n",
    "                batch_size=1,\n",
    "                class_mode='categorical',\n",
    "                shuffle=False)"
   ]
  },
  {
   "cell_type": "markdown",
   "metadata": {},
   "source": [
    "### Model Evaluation"
   ]
  },
  {
   "cell_type": "code",
   "execution_count": 0,
   "metadata": {
    "colab": {
     "base_uri": "https://localhost:8080/",
     "height": 655
    },
    "colab_type": "code",
    "id": "vHQiwXrWxDWI",
    "outputId": "0d1e8d22-b101-435f-9d87-5ebbeb0ed968"
   },
   "outputs": [
    {
     "data": {
      "image/png": "[encoded data removed]",
      "text/plain": [
       "<Figure size 1152x360 with 1 Axes>"
      ]
     },
     "metadata": {
      "needs_background": "light",
      "tags": []
     },
     "output_type": "display_data"
    },
    {
     "data": {
      "image/png": "[encoded data removed]",
      "text/plain": [
       "<Figure size 1152x360 with 1 Axes>"
      ]
     },
     "metadata": {
      "needs_background": "light",
      "tags": []
     },
     "output_type": "display_data"
    }
   ],
   "source": [
    "get_plots(history,smooth=True) #the training and validation accuracy and losses in each epoch"
   ]
  },
  {
   "cell_type": "code",
   "execution_count": 0,
   "metadata": {
    "colab": {
     "base_uri": "https://localhost:8080/",
     "height": 34
    },
    "colab_type": "code",
    "id": "a3vWlrIGvkDr",
    "outputId": "88e755ef-865f-40be-bc7e-f6493f2b70a6"
   },
   "outputs": [
    {
     "name": "stdout",
     "output_type": "stream",
     "text": [
      "Found 949 images belonging to 5 classes.\n"
     ]
    }
   ],
   "source": [
    "val_test_gen = test_datagen.flow_from_directory(\n",
    "                validation_dir,\n",
    "                target_size=(img_height, img_width),\n",
    "                color_mode='rgb',\n",
    "                batch_size=1,\n",
    "                class_mode='categorical',\n",
    "                shuffle=False)"
   ]
  },
  {
   "cell_type": "code",
   "execution_count": 0,
   "metadata": {
    "colab": {
     "base_uri": "https://localhost:8080/",
     "height": 569
    },
    "colab_type": "code",
    "id": "FmlNLzmQvnPc",
    "outputId": "dfee4560-3cbe-4a73-99e8-def5d20906a4"
   },
   "outputs": [
    {
     "data": {
      "image/png": "[encoded data removed]",
      "text/plain": [
       "<Figure size 1152x360 with 2 Axes>"
      ]
     },
     "metadata": {
      "needs_background": "light",
      "tags": []
     },
     "output_type": "display_data"
    },
    {
     "name": "stdout",
     "output_type": "stream",
     "text": [
      "Classification Report\n",
      "               precision    recall  f1-score   support\n",
      "\n",
      "black_measles       0.92      0.99      0.95       212\n",
      "    black_rot       0.98      0.87      0.92       186\n",
      "  leaf_blight       0.99      0.99      0.99       184\n",
      "   phylloxera       0.95      0.99      0.97       172\n",
      "      healthy       0.99      0.98      0.99       195\n",
      "\n",
      "     accuracy                           0.97       949\n",
      "    macro avg       0.97      0.96      0.97       949\n",
      " weighted avg       0.97      0.97      0.96       949\n",
      "\n"
     ]
    }
   ],
   "source": [
    "model = load_model(filepath=os.path.join(model_dir, 'alex-5.h5'))\n",
    "\n",
    "# Get confusion matrix and classification report\n",
    "get_metrics(model, generator=val_test_gen, steps=total_val)"
   ]
  },
  {
   "cell_type": "code",
   "execution_count": 0,
   "metadata": {
    "colab": {
     "base_uri": "https://localhost:8080/",
     "height": 569
    },
    "colab_type": "code",
    "id": "UdL8FfHEv9fr",
    "outputId": "d7f51545-1124-4c35-b43e-9910fe5fc5f3"
   },
   "outputs": [
    {
     "data": {
      "image/png": "[encoded data removed]",
      "text/plain": [
       "<Figure size 1152x360 with 2 Axes>"
      ]
     },
     "metadata": {
      "needs_background": "light",
      "tags": []
     },
     "output_type": "display_data"
    },
    {
     "name": "stdout",
     "output_type": "stream",
     "text": [
      "Classification Report\n",
      "               precision    recall  f1-score   support\n",
      "\n",
      "black_measles       0.91      0.99      0.95       265\n",
      "    black_rot       0.99      0.86      0.92       233\n",
      "  leaf_blight       1.00      1.00      1.00       230\n",
      "   phylloxera       0.97      1.00      0.98       215\n",
      "      healthy       1.00      1.00      1.00       244\n",
      "\n",
      "     accuracy                           0.97      1187\n",
      "    macro avg       0.97      0.97      0.97      1187\n",
      " weighted avg       0.97      0.97      0.97      1187\n",
      "\n"
     ]
    }
   ],
   "source": [
    "# Get confusion matrix and classification report\n",
    "get_metrics(model, generator=test_gen, steps=total_test)"
   ]
  },
  {
   "cell_type": "markdown",
   "metadata": {},
   "source": [
    "We can see that the most misclassifcations occurred for black rot and black measels."
   ]
  }
 ],
 "metadata": {
  "accelerator": "GPU",
  "colab": {
   "collapsed_sections": [],
   "name": "vgg16_5_categories_classification.ipynb",
   "provenance": []
  },
  "kernelspec": {
   "display_name": "Python 3",
   "language": "python",
   "name": "python3"
  },
  "language_info": {
   "codemirror_mode": {
    "name": "ipython",
    "version": 3
   },
   "file_extension": ".py",
   "mimetype": "text/x-python",
   "name": "python",
   "nbconvert_exporter": "python",
   "pygments_lexer": "ipython3",
   "version": "3.7.3"
  }
 },
 "nbformat": 4,
 "nbformat_minor": 1
}
